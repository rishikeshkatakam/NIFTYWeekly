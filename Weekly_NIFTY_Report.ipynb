{
 "cells": [
  {
   "cell_type": "code",
   "execution_count": 1,
   "id": "17dd2615-1ced-4ae3-a386-6235cadfc55f",
   "metadata": {},
   "outputs": [],
   "source": [
    "from lxml.etree import tostring\n",
    "import pandas as pd\n",
    "import numpy as np"
   ]
  },
  {
   "cell_type": "code",
   "execution_count": 2,
   "id": "fefd9738-a9a4-4132-8260-9d51e6f16786",
   "metadata": {},
   "outputs": [],
   "source": [
    "from bs4 import BeautifulSoup\n",
    "import requests"
   ]
  },
  {
   "cell_type": "markdown",
   "id": "c0aa145b-6f29-4ba8-80af-e60a28dd12d9",
   "metadata": {},
   "source": [
    "## Introduction\n",
    "This Jupyter notebook provides a comprehensive analysis of the weekly Nifty indices, sourced from Screener. The aim is to track and evaluate the performance of various indices over the past week, offering insights into market trends and potential investment opportunities."
   ]
  },
  {
   "cell_type": "markdown",
   "id": "acbb63cb-5d2c-448f-87a3-e95f48495fa8",
   "metadata": {},
   "source": [
    "## The function weeklyscrapper goes to the url given and scrapes the data from there and creates a dictionary"
   ]
  },
  {
   "cell_type": "code",
   "execution_count": 59,
   "id": "066f8b70-3471-4fca-bd47-7e3fbf804673",
   "metadata": {},
   "outputs": [],
   "source": [
    "def weeklyscrapper(url,names):\n",
    "\n",
    "    page_to_scrape = requests.get(url).text\n",
    "    #print(page_to_scrape)\n",
    "    soup=BeautifulSoup(page_to_scrape,'lxml' )\n",
    "    jobs=soup.find_all('li',class_='flex flex-space-between') \n",
    "    #print(jobs)\n",
    "    Values=[]\n",
    "    Titles=['%change']\n",
    "    week=soup.find('div', class_=\"flex flex-align-center\")\n",
    "    value=week.find('span',class_='font-size-12 up margin-left-4').text.replace('\\n','').replace(' ','')\n",
    "    Values.append(value)\n",
    "    for job in jobs:\n",
    "        \n",
    "        title=job.find('span',class_='name').text.replace('\\n','').replace(' ','')\n",
    "        Titles.append(title)\n",
    "        \n",
    "        value=job.find('span',class_='number').text\n",
    "        Values.append(value)\n",
    "\n",
    "    \n",
    "\n",
    "    names=dict(zip(Titles, Values))\n",
    "    return names\n",
    "        \n",
    "    \n",
    "#def export_data(data):\n",
    " #  df.to_excel(\"book.xlsx\")\n",
    "#    df.to_csv(\"bookss.csv\")\n",
    "    \n",
    "    \n",
    "    \n",
    "\n"
   ]
  },
  {
   "cell_type": "code",
   "execution_count": 60,
   "id": "39dd6fa7-a8bf-46aa-952e-745cddf52fd8",
   "metadata": {},
   "outputs": [
    {
     "data": {
      "text/plain": [
       "{'%change': '0.16%',\n",
       " 'MarketCap': '1,80,73,177',\n",
       " 'CurrentPrice': '22,502',\n",
       " 'High/Low': '22,795',\n",
       " 'P/E': '21.5',\n",
       " 'PricetoBookvalue': '3.95',\n",
       " 'DividendYield': '1.25',\n",
       " 'CAGR1Yr': '24.0',\n",
       " 'CAGR5Yr': '14.5',\n",
       " 'CAGR10Yr': '12.0'}"
      ]
     },
     "execution_count": 60,
     "metadata": {},
     "output_type": "execute_result"
    }
   ],
   "source": [
    "nifty50=weeklyscrapper(\"https://www.screener.in/company/NIFTY/\",\"nifty50\")\n",
    "nifty50"
   ]
  },
  {
   "cell_type": "code",
   "execution_count": 61,
   "id": "bef8a8fd-8b85-42d3-ad28-6c4d137c59bc",
   "metadata": {},
   "outputs": [
    {
     "data": {
      "text/plain": [
       "{'%change': '0.17%',\n",
       " 'MarketCap': '38,86,876',\n",
       " 'CurrentPrice': '48,200',\n",
       " 'High/Low': '49,975',\n",
       " 'P/E': '14.7',\n",
       " 'PricetoBookvalue': '2.84',\n",
       " 'DividendYield': '0.87',\n",
       " 'CAGR1Yr': '10.1',\n",
       " 'CAGR5Yr': '10.3',\n",
       " 'CAGR10Yr': '12.3'}"
      ]
     },
     "execution_count": 61,
     "metadata": {},
     "output_type": "execute_result"
    }
   ],
   "source": [
    "niftybank=weeklyscrapper(\"https://www.screener.in/company/BANKNIFTY/\",\"banknifty\")\n",
    "niftybank\n",
    "#banknifty=np.array(banknifty)\n",
    "#nifty=np.array(banknifty)\n",
    "#nifty"
   ]
  },
  {
   "cell_type": "code",
   "execution_count": 64,
   "id": "2484d99b-d371-4158-8646-8a3e54449286",
   "metadata": {},
   "outputs": [
    {
     "data": {
      "text/plain": [
       "{'%change': '0.11%',\n",
       " 'MarketCap': '52,00,910',\n",
       " 'CurrentPrice': '21,502',\n",
       " 'High/Low': '22,137',\n",
       " 'P/E': '16.1',\n",
       " 'PricetoBookvalue': '3.35',\n",
       " 'DividendYield': '0.91',\n",
       " 'CAGR1Yr': '11.0',\n",
       " 'CAGR5Yr': '11.2',\n",
       " 'CAGR10Yr': '13.4'}"
      ]
     },
     "execution_count": 64,
     "metadata": {},
     "output_type": "execute_result"
    }
   ],
   "source": [
    "niftyfinancialservices=weeklyscrapper(\"https://www.screener.in/company/CNXFINANCE/\",\"niftyfinancialservices\")\n",
    "niftyfinancialservices"
   ]
  },
  {
   "cell_type": "code",
   "execution_count": 66,
   "id": "06d70585-850f-431e-9bb2-b2656c283f93",
   "metadata": {},
   "outputs": [
    {
     "data": {
      "text/plain": [
       "{'%change': '0.82%',\n",
       " 'MarketCap': '21,81,437',\n",
       " 'CurrentPrice': '17,010',\n",
       " 'High/Low': '17,135',\n",
       " 'P/E': '26.8',\n",
       " 'PricetoBookvalue': '4.06',\n",
       " 'DividendYield': '0.81',\n",
       " 'CAGR1Yr': '71.7',\n",
       " 'CAGR5Yr': '22.6',\n",
       " 'CAGR10Yr': '13.8'}"
      ]
     },
     "execution_count": 66,
     "metadata": {},
     "output_type": "execute_result"
    }
   ],
   "source": [
    "niftysmallcap100=weeklyscrapper(\"https://www.screener.in/company/CNXSMALLCA/\",\"niftysmallcap100\")\n",
    "niftysmallcap100"
   ]
  },
  {
   "cell_type": "code",
   "execution_count": 67,
   "id": "d30ddcdd-18c2-4f13-b85d-82fe659674b1",
   "metadata": {},
   "outputs": [
    {
     "data": {
      "text/plain": [
       "{'%change': '0.50%',\n",
       " 'MarketCap': '29,92,495',\n",
       " 'CurrentPrice': '14,588',\n",
       " 'High/Low': '14,601',\n",
       " 'P/E': '36.0',\n",
       " 'PricetoBookvalue': '4.87',\n",
       " 'DividendYield': '0.76',\n",
       " 'CAGR1Yr': '58.8',\n",
       " 'CAGR5Yr': '25.5',\n",
       " 'CAGR10Yr': '17.0'}"
      ]
     },
     "execution_count": 67,
     "metadata": {},
     "output_type": "execute_result"
    }
   ],
   "source": [
    "niftymidcap50=weeklyscrapper(\"https://www.screener.in/company/NIFTYMID50/\",\"niftymidcap50\")\n",
    "niftymidcap50"
   ]
  },
  {
   "cell_type": "markdown",
   "id": "91374846-c266-417f-a700-a147ea50bd5e",
   "metadata": {},
   "source": [
    "### Convert these dictionaries into a dataframe and set the index names"
   ]
  },
  {
   "cell_type": "code",
   "execution_count": 71,
   "id": "c90c7a9f-1a45-4557-a537-41d640f921f9",
   "metadata": {},
   "outputs": [
    {
     "data": {
      "text/html": [
       "<div>\n",
       "<style scoped>\n",
       "    .dataframe tbody tr th:only-of-type {\n",
       "        vertical-align: middle;\n",
       "    }\n",
       "\n",
       "    .dataframe tbody tr th {\n",
       "        vertical-align: top;\n",
       "    }\n",
       "\n",
       "    .dataframe thead th {\n",
       "        text-align: right;\n",
       "    }\n",
       "</style>\n",
       "<table border=\"1\" class=\"dataframe\">\n",
       "  <thead>\n",
       "    <tr style=\"text-align: right;\">\n",
       "      <th></th>\n",
       "      <th>%change</th>\n",
       "      <th>MarketCap</th>\n",
       "      <th>CurrentPrice</th>\n",
       "      <th>High/Low</th>\n",
       "      <th>P/E</th>\n",
       "      <th>PricetoBookvalue</th>\n",
       "      <th>DividendYield</th>\n",
       "      <th>CAGR1Yr</th>\n",
       "      <th>CAGR5Yr</th>\n",
       "      <th>CAGR10Yr</th>\n",
       "    </tr>\n",
       "    <tr>\n",
       "      <th>id</th>\n",
       "      <th></th>\n",
       "      <th></th>\n",
       "      <th></th>\n",
       "      <th></th>\n",
       "      <th></th>\n",
       "      <th></th>\n",
       "      <th></th>\n",
       "      <th></th>\n",
       "      <th></th>\n",
       "      <th></th>\n",
       "    </tr>\n",
       "  </thead>\n",
       "  <tbody>\n",
       "    <tr>\n",
       "      <th>nifty50</th>\n",
       "      <td>0.16%</td>\n",
       "      <td>1,80,73,177</td>\n",
       "      <td>22,502</td>\n",
       "      <td>22,795</td>\n",
       "      <td>21.5</td>\n",
       "      <td>3.95</td>\n",
       "      <td>1.25</td>\n",
       "      <td>24.0</td>\n",
       "      <td>14.5</td>\n",
       "      <td>12.0</td>\n",
       "    </tr>\n",
       "    <tr>\n",
       "      <th>niftybank</th>\n",
       "      <td>0.17%</td>\n",
       "      <td>38,86,876</td>\n",
       "      <td>48,200</td>\n",
       "      <td>49,975</td>\n",
       "      <td>14.7</td>\n",
       "      <td>2.84</td>\n",
       "      <td>0.87</td>\n",
       "      <td>10.1</td>\n",
       "      <td>10.3</td>\n",
       "      <td>12.3</td>\n",
       "    </tr>\n",
       "    <tr>\n",
       "      <th>niftysmallcap100</th>\n",
       "      <td>0.82%</td>\n",
       "      <td>21,81,437</td>\n",
       "      <td>17,010</td>\n",
       "      <td>17,135</td>\n",
       "      <td>26.8</td>\n",
       "      <td>4.06</td>\n",
       "      <td>0.81</td>\n",
       "      <td>71.7</td>\n",
       "      <td>22.6</td>\n",
       "      <td>13.8</td>\n",
       "    </tr>\n",
       "    <tr>\n",
       "      <th>niftymidcap50</th>\n",
       "      <td>0.50%</td>\n",
       "      <td>29,92,495</td>\n",
       "      <td>14,588</td>\n",
       "      <td>14,601</td>\n",
       "      <td>36.0</td>\n",
       "      <td>4.87</td>\n",
       "      <td>0.76</td>\n",
       "      <td>58.8</td>\n",
       "      <td>25.5</td>\n",
       "      <td>17.0</td>\n",
       "    </tr>\n",
       "    <tr>\n",
       "      <th>niftyfinancialservices</th>\n",
       "      <td>0.11%</td>\n",
       "      <td>52,00,910</td>\n",
       "      <td>21,502</td>\n",
       "      <td>22,137</td>\n",
       "      <td>16.1</td>\n",
       "      <td>3.35</td>\n",
       "      <td>0.91</td>\n",
       "      <td>11.0</td>\n",
       "      <td>11.2</td>\n",
       "      <td>13.4</td>\n",
       "    </tr>\n",
       "  </tbody>\n",
       "</table>\n",
       "</div>"
      ],
      "text/plain": [
       "                       %change    MarketCap CurrentPrice High/Low   P/E  \\\n",
       "id                                                                        \n",
       "nifty50                  0.16%  1,80,73,177       22,502   22,795  21.5   \n",
       "niftybank                0.17%    38,86,876       48,200   49,975  14.7   \n",
       "niftysmallcap100         0.82%    21,81,437       17,010   17,135  26.8   \n",
       "niftymidcap50            0.50%    29,92,495       14,588   14,601  36.0   \n",
       "niftyfinancialservices   0.11%    52,00,910       21,502   22,137  16.1   \n",
       "\n",
       "                       PricetoBookvalue DividendYield CAGR1Yr CAGR5Yr CAGR10Yr  \n",
       "id                                                                              \n",
       "nifty50                            3.95          1.25    24.0    14.5     12.0  \n",
       "niftybank                          2.84          0.87    10.1    10.3     12.3  \n",
       "niftysmallcap100                   4.06          0.81    71.7    22.6     13.8  \n",
       "niftymidcap50                      4.87          0.76    58.8    25.5     17.0  \n",
       "niftyfinancialservices             3.35          0.91    11.0    11.2     13.4  "
      ]
     },
     "execution_count": 71,
     "metadata": {},
     "output_type": "execute_result"
    }
   ],
   "source": [
    "data=[nifty50,niftybank,niftysmallcap100,niftymidcap50,niftyfinancialservices]\n",
    "df=pd.DataFrame(data)\n",
    "Indices= ['nifty50','niftybank','niftysmallcap100','niftymidcap50','niftyfinancialservices']\n",
    "\n",
    "# Insert the new column\n",
    "df['id'] = Indices\n",
    "\n",
    "# Set the new column as the index\n",
    "df.set_index('id', inplace=True)\n",
    "\n",
    "# Display the updated DataFrame\n",
    "df"
   ]
  }
 ],
 "metadata": {
  "kernelspec": {
   "display_name": "Python 3 (ipykernel)",
   "language": "python",
   "name": "python3"
  },
  "language_info": {
   "codemirror_mode": {
    "name": "ipython",
    "version": 3
   },
   "file_extension": ".py",
   "mimetype": "text/x-python",
   "name": "python",
   "nbconvert_exporter": "python",
   "pygments_lexer": "ipython3",
   "version": "3.12.2"
  }
 },
 "nbformat": 4,
 "nbformat_minor": 5
}
